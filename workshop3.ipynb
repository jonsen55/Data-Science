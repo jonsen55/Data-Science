{
 "cells": [
  {
   "cell_type": "code",
   "execution_count": null,
   "metadata": {},
   "outputs": [],
   "source": [
    "numbers = [1, 2, 3, 4, 5, 6, 7, 8, 9, 10]\n",
    "sum_odd = sum(num for num in numbers if num % 2 != 0)\n",
    "sum_even = sum(num for num in numbers if num % 2 == 0)\n",
    "    \n",
    "print(f\"Sum of odd numbers: {sum_odd}\")\n",
    "print(f\"Sum of even numbers: {sum_even}\")\n"
   ]
  }
 ],
 "metadata": {
  "language_info": {
   "name": "python"
  }
 },
 "nbformat": 4,
 "nbformat_minor": 2
}
