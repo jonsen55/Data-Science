{
 "cells": [
  {
   "cell_type": "markdown",
   "metadata": {},
   "source": [
    "##### 1. Write a program that finds out the sum of all the odd numbers and the sum of all the even numbers from a list and prints them out."
   ]
  },
  {
   "cell_type": "code",
   "execution_count": null,
   "metadata": {},
   "outputs": [
    {
     "name": "stdout",
     "output_type": "stream",
     "text": [
      "Sum of odd numbers: 70\n",
      "Sum of even numbers: 40\n"
     ]
    }
   ],
   "source": [
    "numbers = [21, 2, 13, 4, 4, 5, 5, 6, 6, 17, 8, 9, 10]\n",
    "sum_odd = sum(num for num in numbers if num % 2 != 0)\n",
    "sum_even = sum(num for num in numbers if num % 2 == 0)\n",
    "    \n",
    "print(f\"Sum of odd numbers: {sum_odd}\")\n",
    "print(f\"Sum of even numbers: {sum_even}\")\n"
   ]
  },
  {
   "cell_type": "markdown",
   "metadata": {},
   "source": [
    "##### 2. Write a program that finds out the maximum and minimum number from a list and prints them out. (Assume that the first element of the list is maximum/minimum element, then iterate through the list comparing the assumed value with every other element to find the maximum and minimum value)"
   ]
  },
  {
   "cell_type": "code",
   "execution_count": 37,
   "metadata": {},
   "outputs": [
    {
     "name": "stdout",
     "output_type": "stream",
     "text": [
      "Maximum number is: 21\n",
      "Minimum number is: 2\n"
     ]
    }
   ],
   "source": [
    "for i in range(len(numbers)):\n",
    "    for j in range(len(numbers)):\n",
    "        if numbers[i]>numbers[j]:\n",
    "            numbers[j], numbers[i] = numbers[i], numbers[j]\n",
    "print(f\"Maximum number is: {numbers[0]}\\nMinimum number is: {numbers[-1]}\")  "
   ]
  },
  {
   "cell_type": "markdown",
   "metadata": {},
   "source": [
    "##### 3. A Fibonacci sequence is characterized by the fact that every number after the first two is the sum of the two preceding ones. By  definition, the first two numbers in the Fibonacci sequence are 1 and 1. 1, 1, 2, 3, 5, 8, 13, 21, 34, 55"
   ]
  },
  {
   "cell_type": "code",
   "execution_count": 4,
   "metadata": {},
   "outputs": [
    {
     "name": "stdout",
     "output_type": "stream",
     "text": [
      "[1, 1, 2, 3, 5, 8, 13, 21, 34, 55]\n"
     ]
    }
   ],
   "source": [
    "# fibonacciNumber = 1\n",
    "# print(fibonacciNumber)\n",
    "# for i in range(10):\n",
    "#     fibonacciNumber = fibonacciNumber + i\n",
    "#     print(fibonacciNumber)\n",
    "user_choice = int(input(\"How many fibonacci numbers do you want to get?>>>\"))\n",
    "fibonacci = []\n",
    "a = 0\n",
    "b = 1\n",
    "for i in range(1, user_choice+1):\n",
    "            # print(b, end=\" \")\n",
    "            fibonacci.append(b)\n",
    "            c = a + b\n",
    "            a = b\n",
    "            b = c\n",
    "print(fibonacci)"
   ]
  },
  {
   "cell_type": "markdown",
   "metadata": {},
   "source": [
    "##### 4. Write a program that creates and prints out a list containing only the unique elements from an existing list. [1, 1, 2, 3, 3, 4, 4, 5, 6, 5, 6] -> [1, 2, 3, 4, 5, 6]"
   ]
  },
  {
   "cell_type": "code",
   "execution_count": 39,
   "metadata": {},
   "outputs": [
    {
     "name": "stdout",
     "output_type": "stream",
     "text": [
      "[2, 4, 5, 6, 8, 9, 10, 13, 17, 21]\n"
     ]
    }
   ],
   "source": [
    "print(list(set(numbers)))"
   ]
  },
  {
   "cell_type": "markdown",
   "metadata": {},
   "source": [
    "##### 5. Write a program creates and prints a new list with the elements of an existing list in reverse order. [1, 2, 3, 4, 5, 6] -> [6, 5, 4, 3, 2, 1]"
   ]
  },
  {
   "cell_type": "code",
   "execution_count": 46,
   "metadata": {},
   "outputs": [
    {
     "name": "stdout",
     "output_type": "stream",
     "text": [
      "[21, 17, 13, 10, 9, 8, 6, 6, 5, 5, 4, 4, 2]\n"
     ]
    }
   ],
   "source": [
    "numbers.reverse()\n",
    "print(numbers)"
   ]
  },
  {
   "cell_type": "markdown",
   "metadata": {},
   "source": [
    "##### 6. Write a program that prints out all the elements of a list which are divisible by 2 and 3. Use the following list, a = [2, 3, 6, 8, 9, 12, 15, 18, 24, 22, 33, 112]"
   ]
  },
  {
   "cell_type": "code",
   "execution_count": 48,
   "metadata": {},
   "outputs": [
    {
     "name": "stdout",
     "output_type": "stream",
     "text": [
      "6 12 18 24 "
     ]
    }
   ],
   "source": [
    "a = [2, 3, 6, 8, 9, 12, 15, 18, 24, 22, 33, 112]\n",
    "for i in a:\n",
    "    if i % 2 == 0 and i % 3 == 0:\n",
    "        print(i, end=\" \")"
   ]
  },
  {
   "cell_type": "markdown",
   "metadata": {},
   "source": [
    "##### 7. Write a program that combines two lists of equal length by alternatingly taking elements, e.g. [‘a’, ‘b’, ‘c’], [1, 2, 3] -> [‘a’, 1, ‘b’, 2, ‘c’, 3]"
   ]
  },
  {
   "cell_type": "code",
   "execution_count": null,
   "metadata": {},
   "outputs": [
    {
     "name": "stdout",
     "output_type": "stream",
     "text": [
      "['a', 1, 'b', 2, 'c', 3]\n"
     ]
    }
   ],
   "source": [
    "a = ['a', 'b', 'c']\n",
    "b = [1, 2, 3]\n",
    "combine = []\n",
    "for i in range(len(a)):\n",
    "    combine.append(a[i])\n",
    "    combine.append(b[i])\n",
    "print(combine)"
   ]
  },
  {
   "cell_type": "markdown",
   "metadata": {},
   "source": [
    "##### 8. Write a program that performs element-wise addition on 2 lists of numbers having equal length and outputs another list containing the sums, e.g. [1, 2, 3, 4, 5, 6] + [1, 2, 3, 4, 5, 6] -> [2, 4, 6, 8, 10, 12]"
   ]
  },
  {
   "cell_type": "code",
   "execution_count": 55,
   "metadata": {},
   "outputs": [
    {
     "name": "stdout",
     "output_type": "stream",
     "text": [
      "[2, 4, 6, 8, 10, 12]\n"
     ]
    }
   ],
   "source": [
    "first = [1, 2, 3, 4, 5, 6]\n",
    "second = [1, 2, 3, 4, 5, 6]\n",
    "sum_list = [first[i] + second[i] for i in range(len(first))]\n",
    "print(sum_list)"
   ]
  },
  {
   "cell_type": "markdown",
   "metadata": {},
   "source": [
    "##### 9. Write a program to store the values of the matrix given below in a 2D list. Then calculate the sum of the diagonal elements, the sum of all elements above the diagonal and the sum of all the elements below the diagonal. Also find out the max and min element from the matrix. A = [[2,3,4],[1,5,6],[5,8,5]]"
   ]
  },
  {
   "cell_type": "code",
   "execution_count": null,
   "metadata": {},
   "outputs": [
    {
     "name": "stdout",
     "output_type": "stream",
     "text": [
      "Sum of diagonal elements: 12\n",
      "Sum of elements above diagonal: 13\n",
      "Sum of elements below diagonal: 14\n"
     ]
    }
   ],
   "source": [
    "matrix = [[2,3,4],[1,5,6],[5,8,5]]\n",
    "n = len(matrix)\n",
    "sum_diagonal = sum(matrix[i][i] for i in range(n))\n",
    "sum_above = sum(matrix[i][j] for i in range(n) for j in range(i+1, n))\n",
    "sum_below = sum(matrix[i][j] for i in range(1, n) for j in range(i))\n",
    "max_element = max(max(row) for row in matrix)\n",
    "min_element = min(min(row) for row in matrix)\n",
    "    \n",
    "print(f\"Sum of diagonal elements: {sum_diagonal}\")\n",
    "print(f\"Sum of elements above diagonal: {sum_above}\")\n",
    "print(f\"Sum of elements below diagonal: {sum_below}\")\n",
    "print(f\"Minimum Element from the matrix: {min_element}\")\n",
    "print(f\"Maximum Element from the matrix: {max_element}\")"
   ]
  }
 ],
 "metadata": {
  "kernelspec": {
   "display_name": "Python 3",
   "language": "python",
   "name": "python3"
  },
  "language_info": {
   "codemirror_mode": {
    "name": "ipython",
    "version": 3
   },
   "file_extension": ".py",
   "mimetype": "text/x-python",
   "name": "python",
   "nbconvert_exporter": "python",
   "pygments_lexer": "ipython3",
   "version": "3.11.5"
  }
 },
 "nbformat": 4,
 "nbformat_minor": 2
}
