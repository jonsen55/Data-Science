{
 "cells": [
  {
   "cell_type": "code",
   "execution_count": 20,
   "metadata": {},
   "outputs": [
    {
     "name": "stdout",
     "output_type": "stream",
     "text": [
      "Sum of odd numbers: 65\n",
      "Sum of even numbers: 30\n"
     ]
    }
   ],
   "source": [
    "numbers = [21, 2, 13, 4, 5, 6, 17, 8, 9, 10]\n",
    "sum_odd = sum(num for num in numbers if num % 2 != 0)\n",
    "sum_even = sum(num for num in numbers if num % 2 == 0)\n",
    "    \n",
    "print(f\"Sum of odd numbers: {sum_odd}\")\n",
    "print(f\"Sum of even numbers: {sum_even}\")\n"
   ]
  },
  {
   "cell_type": "code",
   "execution_count": 23,
   "metadata": {},
   "outputs": [
    {
     "name": "stdout",
     "output_type": "stream",
     "text": [
      "Maximum number is: 21\n",
      "Minimum number is: 2\n"
     ]
    }
   ],
   "source": [
    "for i in range(len(numbers)):\n",
    "    for j in range(len(numbers)):\n",
    "        if numbers[i]>numbers[j]:\n",
    "            numbers[j], numbers[i] = numbers[i], numbers[j]\n",
    "print(f\"Maximum number is: {numbers[0]}\\nMinimum number is: {numbers[-1]}\")  "
   ]
  },
  {
   "cell_type": "code",
   "execution_count": 33,
   "metadata": {},
   "outputs": [
    {
     "name": "stdout",
     "output_type": "stream",
     "text": [
      "1\n",
      "1\n",
      "2\n",
      "3\n",
      "5\n",
      "8\n",
      "13\n",
      "21\n",
      "34\n",
      "55\n"
     ]
    }
   ],
   "source": [
    "# fibonacciNumber = 1\n",
    "# print(fibonacciNumber)\n",
    "# for i in range(10):\n",
    "#     fibonacciNumber = fibonacciNumber + i\n",
    "#     print(fibonacciNumber)\n",
    "a = 0\n",
    "b = 1\n",
    "for i in range(1, 11):\n",
    "            print(b)\n",
    "            c = a + b\n",
    "            a = b\n",
    "            b = c"
   ]
  }
 ],
 "metadata": {
  "kernelspec": {
   "display_name": "Python 3",
   "language": "python",
   "name": "python3"
  },
  "language_info": {
   "codemirror_mode": {
    "name": "ipython",
    "version": 3
   },
   "file_extension": ".py",
   "mimetype": "text/x-python",
   "name": "python",
   "nbconvert_exporter": "python",
   "pygments_lexer": "ipython3",
   "version": "3.11.5"
  }
 },
 "nbformat": 4,
 "nbformat_minor": 2
}
