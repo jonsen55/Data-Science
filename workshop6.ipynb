{
 "cells": [
  {
   "cell_type": "markdown",
   "metadata": {},
   "source": [
    "## Workshop 6"
   ]
  },
  {
   "cell_type": "code",
   "execution_count": 1,
   "metadata": {},
   "outputs": [],
   "source": [
    "import pandas as pd\n",
    "import matplotlib.pyplot as plt"
   ]
  },
  {
   "cell_type": "markdown",
   "metadata": {},
   "source": [
    "##### 1. Write a Python program to show a histogram plot of any 2 chosen variables. Use proper labels in the graph."
   ]
  },
  {
   "cell_type": "code",
   "execution_count": 3,
   "metadata": {},
   "outputs": [
    {
     "ename": "NameError",
     "evalue": "name 'df' is not defined",
     "output_type": "error",
     "traceback": [
      "\u001b[31m---------------------------------------------------------------------------\u001b[39m",
      "\u001b[31mNameError\u001b[39m                                 Traceback (most recent call last)",
      "\u001b[36mCell\u001b[39m\u001b[36m \u001b[39m\u001b[32mIn[3]\u001b[39m\u001b[32m, line 1\u001b[39m\n\u001b[32m----> \u001b[39m\u001b[32m1\u001b[39m \u001b[43mdf\u001b[49m[[\u001b[33m'\u001b[39m\u001b[33mG1\u001b[39m\u001b[33m'\u001b[39m, \u001b[33m'\u001b[39m\u001b[33mG3\u001b[39m\u001b[33m'\u001b[39m]].plot(kind=\u001b[33m'\u001b[39m\u001b[33mhist\u001b[39m\u001b[33m'\u001b[39m, bins=\u001b[32m10\u001b[39m, alpha=\u001b[32m0.7\u001b[39m)\n\u001b[32m      2\u001b[39m plt.title(\u001b[33m\"\u001b[39m\u001b[33mHistogram of G1 and G3 Grades\u001b[39m\u001b[33m\"\u001b[39m)\n\u001b[32m      3\u001b[39m plt.xlabel(\u001b[33m\"\u001b[39m\u001b[33mGrade\u001b[39m\u001b[33m\"\u001b[39m)\n",
      "\u001b[31mNameError\u001b[39m: name 'df' is not defined"
     ]
    }
   ],
   "source": [
    "df[['G1', 'G3']].plot(kind='hist', bins=10, alpha=0.7)\n",
    "plt.title(\"Histogram of G1 and G3 Grades\")\n",
    "plt.xlabel(\"Grade\")\n",
    "plt.ylabel(\"Frequency\")\n",
    "plt.legend([\"G1\", \"G3\"])\n",
    "plt.grid(True)\n",
    "plt.show()"
   ]
  },
  {
   "cell_type": "markdown",
   "metadata": {},
   "source": [
    "##### 2. Create a new column named passed (yes or no) whose values should be based on the values present in the G3 column (>=8 – yes, less than 8 -no)"
   ]
  },
  {
   "cell_type": "code",
   "execution_count": null,
   "metadata": {},
   "outputs": [],
   "source": [
    "df[\"passed\"] = df[\"G3\"].apply(lambda x: \"yes\" if x >= 8 else \"no\")"
   ]
  },
  {
   "cell_type": "markdown",
   "metadata": {},
   "source": [
    "##### 3. Write a Python program to show a bar graph of the total number of students who passed the final term grouped according to the school that they belong to. Use proper labels in the graph."
   ]
  },
  {
   "cell_type": "code",
   "execution_count": null,
   "metadata": {},
   "outputs": [],
   "source": [
    "# Count students who passed, grouped by school\n",
    "passed_by_school = df[df[\"passed\"] == \"yes\"].groupby(\"school\")[\"passed\"].count()\n",
    "\n",
    "# Plotting\n",
    "passed_by_school.plot(kind=\"bar\", color=\"green\")\n",
    "plt.title(\"Number of Students Passed by School\")\n",
    "plt.xlabel(\"School\")\n",
    "plt.ylabel(\"Number of Students Passed\")\n",
    "plt.grid(axis='y')\n",
    "plt.show()"
   ]
  },
  {
   "cell_type": "markdown",
   "metadata": {},
   "source": [
    "##### 4. Write a Python program to show a bar graph of the total number of students who failed the final term grouped according to their weekly study time. Use proper labels in the graph."
   ]
  },
  {
   "cell_type": "code",
   "execution_count": null,
   "metadata": {},
   "outputs": [],
   "source": [
    "# Count students who passed, grouped by school\n",
    "passed_by_school = df[df[\"passed\"] == \"yes\"].groupby(\"school\")[\"passed\"].count()\n",
    "\n",
    "# Plotting\n",
    "passed_by_school.plot(kind=\"bar\", color=\"green\")\n",
    "plt.title(\"Number of Students Passed by School\")\n",
    "plt.xlabel(\"School\")\n",
    "plt.ylabel(\"Number of Students Passed\")\n",
    "plt.grid(axis='y')\n",
    "plt.show()"
   ]
  },
  {
   "cell_type": "markdown",
   "metadata": {},
   "source": [
    "##### 5. Write a Python program to calculate and show correlation of all variables with the target variable in descending order."
   ]
  },
  {
   "cell_type": "code",
   "execution_count": null,
   "metadata": {},
   "outputs": [],
   "source": [
    "# Compute correlations and sort descending\n",
    "correlation_with_g3 = df.corr(numeric_only=True)[\"G3\"].sort_values(ascending=False)\n",
    "\n",
    "# Display the correlations\n",
    "print(\"Correlation with G3 (Descending):\")\n",
    "print(correlation_with_g3)"
   ]
  }
 ],
 "metadata": {
  "kernelspec": {
   "display_name": "Python 3",
   "language": "python",
   "name": "python3"
  },
  "language_info": {
   "codemirror_mode": {
    "name": "ipython",
    "version": 3
   },
   "file_extension": ".py",
   "mimetype": "text/x-python",
   "name": "python",
   "nbconvert_exporter": "python",
   "pygments_lexer": "ipython3",
   "version": "3.11.5"
  }
 },
 "nbformat": 4,
 "nbformat_minor": 2
}
