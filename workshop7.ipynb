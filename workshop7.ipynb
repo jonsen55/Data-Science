{
 "cells": [
  {
   "cell_type": "code",
   "execution_count": 7,
   "id": "7805fa78",
   "metadata": {},
   "outputs": [],
   "source": [
    "# Data Set is student.csv\n",
    "import statistics \n",
    "import pandas as pd"
   ]
  },
  {
   "cell_type": "code",
   "execution_count": 8,
   "id": "012b8f37",
   "metadata": {},
   "outputs": [
    {
     "data": {
      "text/html": [
       "<div>\n",
       "<style scoped>\n",
       "    .dataframe tbody tr th:only-of-type {\n",
       "        vertical-align: middle;\n",
       "    }\n",
       "\n",
       "    .dataframe tbody tr th {\n",
       "        vertical-align: top;\n",
       "    }\n",
       "\n",
       "    .dataframe thead th {\n",
       "        text-align: right;\n",
       "    }\n",
       "</style>\n",
       "<table border=\"1\" class=\"dataframe\">\n",
       "  <thead>\n",
       "    <tr style=\"text-align: right;\">\n",
       "      <th></th>\n",
       "      <th>id</th>\n",
       "      <th>first_name</th>\n",
       "      <th>last_name</th>\n",
       "      <th>email</th>\n",
       "      <th>gender</th>\n",
       "      <th>part_time_job</th>\n",
       "      <th>absence_days</th>\n",
       "      <th>extracurricular_activities</th>\n",
       "      <th>weekly_self_study_hours</th>\n",
       "      <th>career_aspiration</th>\n",
       "      <th>math_score</th>\n",
       "      <th>history_score</th>\n",
       "      <th>physics_score</th>\n",
       "      <th>chemistry_score</th>\n",
       "      <th>biology_score</th>\n",
       "      <th>english_score</th>\n",
       "      <th>geography_score</th>\n",
       "    </tr>\n",
       "  </thead>\n",
       "  <tbody>\n",
       "    <tr>\n",
       "      <th>0</th>\n",
       "      <td>1</td>\n",
       "      <td>Larry</td>\n",
       "      <td>Waters</td>\n",
       "      <td>larry.waters.1@gslingacademy.com</td>\n",
       "      <td>male</td>\n",
       "      <td>False</td>\n",
       "      <td>2</td>\n",
       "      <td>True</td>\n",
       "      <td>24</td>\n",
       "      <td>Software Developer</td>\n",
       "      <td>80</td>\n",
       "      <td>100</td>\n",
       "      <td>92</td>\n",
       "      <td>68</td>\n",
       "      <td>83</td>\n",
       "      <td>97</td>\n",
       "      <td>60</td>\n",
       "    </tr>\n",
       "    <tr>\n",
       "      <th>1</th>\n",
       "      <td>2</td>\n",
       "      <td>Tracy</td>\n",
       "      <td>Payne</td>\n",
       "      <td>tracy.payne.2@gslingacademy.com</td>\n",
       "      <td>male</td>\n",
       "      <td>False</td>\n",
       "      <td>4</td>\n",
       "      <td>True</td>\n",
       "      <td>30</td>\n",
       "      <td>Pilot</td>\n",
       "      <td>86</td>\n",
       "      <td>84</td>\n",
       "      <td>70</td>\n",
       "      <td>92</td>\n",
       "      <td>68</td>\n",
       "      <td>88</td>\n",
       "      <td>75</td>\n",
       "    </tr>\n",
       "  </tbody>\n",
       "</table>\n",
       "</div>"
      ],
      "text/plain": [
       "   id first_name last_name                             email gender  \\\n",
       "0   1      Larry    Waters  larry.waters.1@gslingacademy.com   male   \n",
       "1   2      Tracy     Payne   tracy.payne.2@gslingacademy.com   male   \n",
       "\n",
       "   part_time_job  absence_days  extracurricular_activities  \\\n",
       "0          False             2                        True   \n",
       "1          False             4                        True   \n",
       "\n",
       "   weekly_self_study_hours   career_aspiration  math_score  history_score  \\\n",
       "0                       24  Software Developer          80            100   \n",
       "1                       30               Pilot          86             84   \n",
       "\n",
       "   physics_score  chemistry_score  biology_score  english_score  \\\n",
       "0             92               68             83             97   \n",
       "1             70               92             68             88   \n",
       "\n",
       "   geography_score  \n",
       "0               60  \n",
       "1               75  "
      ]
     },
     "execution_count": 8,
     "metadata": {},
     "output_type": "execute_result"
    }
   ],
   "source": [
    "df = pd.read_csv('C:/Users/Dell/Downloads/StudentScores.csv')\n",
    "df.head(2)\n"
   ]
  },
  {
   "cell_type": "markdown",
   "id": "c53acf66",
   "metadata": {},
   "source": [
    "use data set StudentScores.csv\n",
    "1. find average weekly self study hours\n",
    "2. what's the max score in math?\n",
    "3. which subject seems to be an issue that needs more effort?\n",
    "4. Dataset consists of marks of 20 students, 10 male and 10 female.\n",
    "    Test whether the mark is significantly different based on gender using chi2 test.\n",
    "    Mark(M)\tMark (F)\n",
    "        77\t56\n",
    "        65\t65\n",
    "        56\t55\n",
    "        47\t48\n",
    "        76\t87\n",
    "        58\t67\n",
    "        91\t76\n",
    "        61\t54\n",
    "        60\t75\n",
    "        61\t67\n",
    "        \n",
    "    Mark(M)\tMark (F)\n",
    "        77\t76\n",
    "        65\t65\n",
    "        56\t55\n",
    "        47\t48\n",
    "        76\t87\n",
    "        58\t51\n",
    "        91\t83\n",
    "        61\t59\n",
    "        60\t65\n",
    "        61\t61\n",
    "\n",
    "\n",
    "5. describe how mean and median is different using choice of your data.\n",
    "6. use describe function and explain the findings on the provided dataset \n",
    "7. There is 2 group consisiting of 10 students each.\n",
    "one group of student sleep 8 hours a day and another group sleep 5 hours a day. \n",
    "Test whether the sleep hours affect the mark or not.\n",
    "Group1 (8 hrs sleep)\tGroup2(5 hrs sleep)\n",
    "                    77\t56\n",
    "                    65\t65\n",
    "                    56\t55\n",
    "                    47\t48\n",
    "                    76\t87\n",
    "                    58\t67\n",
    "                    91\t76\n",
    "                    61\t54\n",
    "                    60\t75\n",
    "                    61\t67"
   ]
  },
  {
   "cell_type": "code",
   "execution_count": 11,
   "id": "9642f45f",
   "metadata": {},
   "outputs": [
    {
     "data": {
      "text/plain": [
       "28.82"
      ]
     },
     "execution_count": 11,
     "metadata": {},
     "output_type": "execute_result"
    }
   ],
   "source": [
    "statistics.mean(df.weekly_self_study_hours)"
   ]
  },
  {
   "cell_type": "code",
   "execution_count": 16,
   "id": "f0a9eb25",
   "metadata": {},
   "outputs": [
    {
     "data": {
      "text/plain": [
       "np.int64(99)"
      ]
     },
     "execution_count": 16,
     "metadata": {},
     "output_type": "execute_result"
    }
   ],
   "source": [
    "max_score = df[\"math_score\"].max()\n",
    "max_score"
   ]
  },
  {
   "cell_type": "code",
   "execution_count": null,
   "id": "420ce6cc",
   "metadata": {},
   "outputs": [],
   "source": [
    "# 3. which subject seems to be an issue that needs more effort?\n",
    "# Select only the subject columns\n",
    "subject_columns = ['math_score', 'history_score', 'physics_score', 'chemistry_score', 'biology_score', 'english_score', 'geography_score']\n",
    "\n",
    "# Compute the average score per subject\n",
    "average_scores = df[subject_columns].mean()\n",
    "\n",
    "# Find the subject with the lowest average score\n",
    "subject_needing_effort = average_scores.idxmin()\n",
    "\n",
    "print(f\"The subject that needs more effort is: {subject_needing_effort}\")"
   ]
  },
  {
   "cell_type": "code",
   "execution_count": null,
   "id": "61f4c43c",
   "metadata": {},
   "outputs": [
    {
     "name": "stdout",
     "output_type": "stream",
     "text": [
      "Contingency Table:\n",
      " col_0   Male  Female\n",
      "row_0               \n",
      "40-54      1       2\n",
      "55-69      6       5\n",
      "70-84      2       2\n",
      "85-100     1       1\n",
      "\n",
      "Chi-Square Test Results:\n",
      "Chi2 Statistic = 0.4242\n",
      "P-Value = 0.9352\n",
      "Degrees of Freedom = 3\n"
     ]
    }
   ],
   "source": [
    "import pandas as pd\n",
    "import numpy as np\n",
    "from scipy.stats import chi2_contingency\n",
    "\n",
    "marks_male = [77, 65, 56, 47, 76, 58, 91, 61, 60, 61]\n",
    "marks_female = [76, 65, 55, 48, 87, 51, 83, 59, 65, 61]\n",
    "\n",
    "bins = [0, 54, 69, 84, 100]\n",
    "labels = ['40-54', '55-69', '70-84', '85-100']\n",
    "\n",
    "male_cats = pd.cut(marks_male, bins=bins, labels=labels)\n",
    "female_cats = pd.cut(marks_female, bins=bins, labels=labels)\n",
    "\n",
    "contingency_table = pd.crosstab(index=male_cats, columns='Male').join(\n",
    "    pd.crosstab(index=female_cats, columns='Female')\n",
    ").fillna(0).astype(int)\n",
    "\n",
    "print(\"Contingency Table:\\n\", contingency_table)\n",
    "# 3. which subject seems to be an issue that needs more effort?\n",
    "# Select only the subject columns\n",
    "subject_columns = ['math_score', 'history_score', 'physics_score', 'chemistry_score', 'biology_score', 'english_score', 'geography_score']\n",
    "\n",
    "# Compute the average score per subject\n",
    "average_scores = df[subject_columns].mean()\n",
    "\n",
    "# Find the subject with the lowest average score\n",
    "subject_needing_effort = average_scores.idxmin()\n",
    "\n",
    "print(f\"The subject that needs more effort is: {subject_needing_effort}\")\n",
    "chi2, p, dof, expected = chi2_contingency(contingency_table)\n",
    "\n",
    "print(\"\\nChi-Square Test Results:\")\n",
    "print(f\"Chi2 Statistic = {chi2:.4f}\")\n",
    "print(f\"P-Value = {p:.4f}\")\n",
    "print(f\"Degrees of Freedom = {dof}\")\n"
   ]
  }
 ],
 "metadata": {
  "kernelspec": {
   "display_name": "Python 3",
   "language": "python",
   "name": "python3"
  },
  "language_info": {
   "codemirror_mode": {
    "name": "ipython",
    "version": 3
   },
   "file_extension": ".py",
   "mimetype": "text/x-python",
   "name": "python",
   "nbconvert_exporter": "python",
   "pygments_lexer": "ipython3",
   "version": "3.11.5"
  }
 },
 "nbformat": 4,
 "nbformat_minor": 5
}
