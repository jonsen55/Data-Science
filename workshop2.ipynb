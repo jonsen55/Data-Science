{
 "cells": [
  {
   "cell_type": "code",
   "execution_count": null,
   "metadata": {},
   "outputs": [
    {
     "name": "stdout",
     "output_type": "stream",
     "text": [
      "[1015, 1050, 1085, 1120, 1155, 1190, 1225, 1260, 1295, 1330, 1365, 1400, 1435, 1470, 1505, 1540, 1575, 1610, 1645, 1680, 1715, 1750, 1785, 1820, 1855, 1890, 1925, 1960, 1995]\n"
     ]
    }
   ],
   "source": [
    "# Qsn 1.\n",
    "start = 1000\n",
    "end = 2000\n",
    "\n",
    "result = [num for num in range(start, end + 1) if num % 7 == 0 and num % 5 == 0]\n",
    "\n",
    "print(result)"
   ]
  },
  {
   "cell_type": "code",
   "execution_count": null,
   "metadata": {},
   "outputs": [],
   "source": [
    "# Qsn 2\n",
    "def celsius_to_fahrenheit(c):\n",
    "    return (9 * c / 5) + 32\n",
    "\n",
    "def fahrenheit_to_celsius(f):\n",
    "    return (f - 32) * 5 / 9\n",
    "\n",
    "celsius_temp = 60\n",
    "fahrenheit_temp = 45\n",
    "\n",
    "print(f\"{celsius_temp}°C is {celsius_to_fahrenheit(celsius_temp)} in Fahrenheit\")\n",
    "print(f\"{fahrenheit_temp}°F is {fahrenheit_to_celsius(fahrenheit_temp):.0f} in Celsius\")"
   ]
  },
  {
   "cell_type": "code",
   "execution_count": null,
   "metadata": {},
   "outputs": [],
   "source": [
    "# Qsn 3\n",
    "import random\n",
    "\n",
    "random_guess = random.randint(1, 9)\n",
    "\n",
    "guess = 0\n",
    "while guess != random_guess:\n",
    "    guess = int(input(\"Guess a number between 1 and 9: \"))\n",
    "    if guess == random_guess:\n",
    "        print(\"Correct vayonta laa!\")"
   ]
  },
  {
   "cell_type": "code",
   "execution_count": 2,
   "metadata": {},
   "outputs": [
    {
     "name": "stdout",
     "output_type": "stream",
     "text": [
      "* \n",
      "* * \n",
      "* * * \n",
      "* * * * \n",
      "* * * * * \n",
      "* * * * \n",
      "* * * \n",
      "* * \n",
      "* \n"
     ]
    }
   ],
   "source": [
    "# Qsn 4\n",
    "n = 5\n",
    "\n",
    "for i in range(1, n + 1):\n",
    "    print(\"* \" * i)\n",
    "\n",
    "for i in range(n - 1, 0, -1):\n",
    "    print(\"* \" * i)\n"
   ]
  },
  {
   "cell_type": "code",
   "execution_count": null,
   "metadata": {},
   "outputs": [],
   "source": []
  }
 ],
 "metadata": {
  "kernelspec": {
   "display_name": "Python 3",
   "language": "python",
   "name": "python3"
  },
  "language_info": {
   "codemirror_mode": {
    "name": "ipython",
    "version": 3
   },
   "file_extension": ".py",
   "mimetype": "text/x-python",
   "name": "python",
   "nbconvert_exporter": "python",
   "pygments_lexer": "ipython3",
   "version": "3.11.5"
  }
 },
 "nbformat": 4,
 "nbformat_minor": 2
}
