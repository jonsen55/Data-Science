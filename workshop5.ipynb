{
 "cells": [
  {
   "cell_type": "code",
   "execution_count": 31,
   "metadata": {},
   "outputs": [],
   "source": [
    "import pandas as pd\n",
    "import numpy as np"
   ]
  },
  {
   "cell_type": "markdown",
   "metadata": {},
   "source": [
    "##### 1. Create 5 different python objects as following:\n",
    "##### Python list with string values. (Store it in variable data_labels_1)\n",
    "##### Python list with integer values. (Store it in variable data_values_1)\n",
    "##### A numpy array. (Store it in variable series_numpy_array_1)\n",
    "##### A python dictionary (Store it in variable dict2)\n"
   ]
  },
  {
   "cell_type": "code",
   "execution_count": null,
   "metadata": {},
   "outputs": [],
   "source": [
    "obj1 = {\n",
    "    \"name\": [\"jonsen\", \"gaire\", \"horw\", \"hoina\", \"holaa\"]\n",
    "}\n",
    "obj2 = {\n",
    "    \"age\": [25, 30, 35, 40, 45]\n",
    "}\n",
    "obj3 = {\n",
    "    \"city\": [\"New York\", \"Los Angeles\", \"Chicago\", \"Houston\", \"Phoenix\"]\n",
    "}\n",
    "\n",
    "data_labels_1 = pd.DataFrame(obj1)\n",
    "data_labels_1 = pd.DataFrame(obj2)\n",
    "series_numpy_array_1 = np.array([1, 2, 3, 2, 3, 4, 3, 4, 5, 6])\n",
    "dict_2 = {'Name':'Jonsen','Sub': 'Data Discovery'}\n",
    "# data_labels_3 = pd.DataFrame(obj3)"
   ]
  },
  {
   "cell_type": "markdown",
   "metadata": {},
   "source": [
    "##### 2. Create a new python series that stores the population of 5 various cities as data and name of the cities as indexes from data given below. Store it in variable cities_population.\n",
    "##### indexes = ['Biratnagar', 'Kathmandu', 'Lalitpur', 'Pokhara', 'Narayangarh']\n",
    "##### data = [200000, 1600000, 600000, 500000, 350000]\n"
   ]
  },
  {
   "cell_type": "code",
   "execution_count": 44,
   "metadata": {},
   "outputs": [
    {
     "data": {
      "text/plain": [
       "indexes    [Biratnagar, Kathmandu, Lalitpur, Pokhara, Nar...\n",
       "data               [200000, 1600000, 600000, 500000, 350000]\n",
       "dtype: object"
      ]
     },
     "execution_count": 44,
     "metadata": {},
     "output_type": "execute_result"
    }
   ],
   "source": [
    "population = {\n",
    "    \"indexes\": ['Biratnagar', 'Kathmandu', 'Lalitpur', 'Pokhara', 'Narayangarh'],\n",
    "    \"data\": [200000, 1600000, 600000, 500000, 350000]\n",
    "}\n",
    "cities_population = pd.Series(population)\n",
    "cities_population"
   ]
  },
  {
   "cell_type": "markdown",
   "metadata": {},
   "source": [
    "##### 3. Create different python series for each question below out of the data above as follows:\n",
    "##### Using python list data_values_1. What do you observe regarding the indexes?\n",
    "##### Using python list data_labels_1. What do you observe regarding the datatype of the series?\n",
    "##### Using data_values_1 as data values and data_labels_1 as indexes\n",
    "##### Using numpy array series_numpy_array_1.\n",
    "##### Using numpy array series_numpy_array_1. Set the indexes to data_labels_1.\n",
    "##### Using python dictionary dict2. What do you observe regarding the indexes?\n"
   ]
  },
  {
   "cell_type": "code",
   "execution_count": 56,
   "metadata": {},
   "outputs": [
    {
     "ename": "ValueError",
     "evalue": "Shape of passed values is (10, 1), indices imply (2, 1)",
     "output_type": "error",
     "traceback": [
      "\u001b[31m---------------------------------------------------------------------------\u001b[39m",
      "\u001b[31mValueError\u001b[39m                                Traceback (most recent call last)",
      "\u001b[36mCell\u001b[39m\u001b[36m \u001b[39m\u001b[32mIn[56]\u001b[39m\u001b[32m, line 5\u001b[39m\n\u001b[32m      3\u001b[39m data_values_1\n\u001b[32m      4\u001b[39m series_numpy_array_1\n\u001b[32m----> \u001b[39m\u001b[32m5\u001b[39m data_values_1 = \u001b[43mpd\u001b[49m\u001b[43m.\u001b[49m\u001b[43mDataFrame\u001b[49m\u001b[43m(\u001b[49m\u001b[43mseries_numpy_array_1\u001b[49m\u001b[43m,\u001b[49m\u001b[43m \u001b[49m\u001b[43mindex\u001b[49m\u001b[43m=\u001b[49m\u001b[43mdict_2\u001b[49m\u001b[43m)\u001b[49m\n\u001b[32m      6\u001b[39m \u001b[38;5;66;03m# type(data_values_1)\u001b[39;00m\n",
      "\u001b[36mFile \u001b[39m\u001b[32mc:\\Python311\\Lib\\site-packages\\pandas\\core\\frame.py:827\u001b[39m, in \u001b[36mDataFrame.__init__\u001b[39m\u001b[34m(self, data, index, columns, dtype, copy)\u001b[39m\n\u001b[32m    816\u001b[39m         mgr = dict_to_mgr(\n\u001b[32m    817\u001b[39m             \u001b[38;5;66;03m# error: Item \"ndarray\" of \"Union[ndarray, Series, Index]\" has no\u001b[39;00m\n\u001b[32m    818\u001b[39m             \u001b[38;5;66;03m# attribute \"name\"\u001b[39;00m\n\u001b[32m   (...)\u001b[39m\u001b[32m    824\u001b[39m             copy=_copy,\n\u001b[32m    825\u001b[39m         )\n\u001b[32m    826\u001b[39m     \u001b[38;5;28;01melse\u001b[39;00m:\n\u001b[32m--> \u001b[39m\u001b[32m827\u001b[39m         mgr = \u001b[43mndarray_to_mgr\u001b[49m\u001b[43m(\u001b[49m\n\u001b[32m    828\u001b[39m \u001b[43m            \u001b[49m\u001b[43mdata\u001b[49m\u001b[43m,\u001b[49m\n\u001b[32m    829\u001b[39m \u001b[43m            \u001b[49m\u001b[43mindex\u001b[49m\u001b[43m,\u001b[49m\n\u001b[32m    830\u001b[39m \u001b[43m            \u001b[49m\u001b[43mcolumns\u001b[49m\u001b[43m,\u001b[49m\n\u001b[32m    831\u001b[39m \u001b[43m            \u001b[49m\u001b[43mdtype\u001b[49m\u001b[43m=\u001b[49m\u001b[43mdtype\u001b[49m\u001b[43m,\u001b[49m\n\u001b[32m    832\u001b[39m \u001b[43m            \u001b[49m\u001b[43mcopy\u001b[49m\u001b[43m=\u001b[49m\u001b[43mcopy\u001b[49m\u001b[43m,\u001b[49m\n\u001b[32m    833\u001b[39m \u001b[43m            \u001b[49m\u001b[43mtyp\u001b[49m\u001b[43m=\u001b[49m\u001b[43mmanager\u001b[49m\u001b[43m,\u001b[49m\n\u001b[32m    834\u001b[39m \u001b[43m        \u001b[49m\u001b[43m)\u001b[49m\n\u001b[32m    836\u001b[39m \u001b[38;5;66;03m# For data is list-like, or Iterable (will consume into list)\u001b[39;00m\n\u001b[32m    837\u001b[39m \u001b[38;5;28;01melif\u001b[39;00m is_list_like(data):\n",
      "\u001b[36mFile \u001b[39m\u001b[32mc:\\Python311\\Lib\\site-packages\\pandas\\core\\internals\\construction.py:336\u001b[39m, in \u001b[36mndarray_to_mgr\u001b[39m\u001b[34m(values, index, columns, dtype, copy, typ)\u001b[39m\n\u001b[32m    331\u001b[39m \u001b[38;5;66;03m# _prep_ndarraylike ensures that values.ndim == 2 at this point\u001b[39;00m\n\u001b[32m    332\u001b[39m index, columns = _get_axes(\n\u001b[32m    333\u001b[39m     values.shape[\u001b[32m0\u001b[39m], values.shape[\u001b[32m1\u001b[39m], index=index, columns=columns\n\u001b[32m    334\u001b[39m )\n\u001b[32m--> \u001b[39m\u001b[32m336\u001b[39m \u001b[43m_check_values_indices_shape_match\u001b[49m\u001b[43m(\u001b[49m\u001b[43mvalues\u001b[49m\u001b[43m,\u001b[49m\u001b[43m \u001b[49m\u001b[43mindex\u001b[49m\u001b[43m,\u001b[49m\u001b[43m \u001b[49m\u001b[43mcolumns\u001b[49m\u001b[43m)\u001b[49m\n\u001b[32m    338\u001b[39m \u001b[38;5;28;01mif\u001b[39;00m typ == \u001b[33m\"\u001b[39m\u001b[33marray\u001b[39m\u001b[33m\"\u001b[39m:\n\u001b[32m    339\u001b[39m     \u001b[38;5;28;01mif\u001b[39;00m \u001b[38;5;28missubclass\u001b[39m(values.dtype.type, \u001b[38;5;28mstr\u001b[39m):\n",
      "\u001b[36mFile \u001b[39m\u001b[32mc:\\Python311\\Lib\\site-packages\\pandas\\core\\internals\\construction.py:420\u001b[39m, in \u001b[36m_check_values_indices_shape_match\u001b[39m\u001b[34m(values, index, columns)\u001b[39m\n\u001b[32m    418\u001b[39m passed = values.shape\n\u001b[32m    419\u001b[39m implied = (\u001b[38;5;28mlen\u001b[39m(index), \u001b[38;5;28mlen\u001b[39m(columns))\n\u001b[32m--> \u001b[39m\u001b[32m420\u001b[39m \u001b[38;5;28;01mraise\u001b[39;00m \u001b[38;5;167;01mValueError\u001b[39;00m(\u001b[33mf\u001b[39m\u001b[33m\"\u001b[39m\u001b[33mShape of passed values is \u001b[39m\u001b[38;5;132;01m{\u001b[39;00mpassed\u001b[38;5;132;01m}\u001b[39;00m\u001b[33m, indices imply \u001b[39m\u001b[38;5;132;01m{\u001b[39;00mimplied\u001b[38;5;132;01m}\u001b[39;00m\u001b[33m\"\u001b[39m)\n",
      "\u001b[31mValueError\u001b[39m: Shape of passed values is (10, 1), indices imply (2, 1)"
     ]
    }
   ],
   "source": [
    "naam = ['jon','sen','ga']\n",
    "data_values_1 = pd.Series(naam)\n",
    "data_values_1\n",
    "series_numpy_array_1\n",
    "data_values_1 = pd.DataFrame(series_numpy_array_1, index=dict_2)\n",
    "# type(data_values_1)\n"
   ]
  },
  {
   "cell_type": "markdown",
   "metadata": {},
   "source": [
    "##### 4. Fetch the indexes of the series cities_population"
   ]
  },
  {
   "cell_type": "code",
   "execution_count": 57,
   "metadata": {},
   "outputs": [
    {
     "data": {
      "text/plain": [
       "['Biratnagar', 'Kathmandu', 'Lalitpur', 'Pokhara', 'Narayangarh']"
      ]
     },
     "execution_count": 57,
     "metadata": {},
     "output_type": "execute_result"
    }
   ],
   "source": [
    "cities_population.indexes"
   ]
  },
  {
   "cell_type": "markdown",
   "metadata": {},
   "source": [
    "##### 5. Create a new python series that stores the population of 5 various cities as data and name of the cities as indexes from data given below. Store it in variable cities_population_2.\n",
    "##### indexes = ['Bhaktapur', 'Kathmandu', 'Lalitpur', 'Pokhara', 'Butwal']\n",
    "##### data = [150000, 1600000, 600000, 500000, 300000]"
   ]
  },
  {
   "cell_type": "code",
   "execution_count": 58,
   "metadata": {},
   "outputs": [
    {
     "data": {
      "text/plain": [
       "Biratnagar     NaN\n",
       "Kathmandu      NaN\n",
       "Lalitpur       NaN\n",
       "Pokhara        NaN\n",
       "Narayangarh    NaN\n",
       "dtype: object"
      ]
     },
     "execution_count": 58,
     "metadata": {},
     "output_type": "execute_result"
    }
   ],
   "source": [
    "population_2 = {\n",
    "    \"data\": [200000, 1600000, 600000, 500000, 350000]\n",
    "}\n",
    "cities_population_2 = pd.Series(population, index=['Biratnagar', 'Kathmandu', 'Lalitpur', 'Pokhara', 'Narayangarh'])\n",
    "cities_population_2"
   ]
  },
  {
   "cell_type": "markdown",
   "metadata": {},
   "source": [
    "##### 6. Perform addition on series 'cities_population' and 'cities_population_2'. What do you observe?"
   ]
  },
  {
   "cell_type": "code",
   "execution_count": 59,
   "metadata": {},
   "outputs": [
    {
     "ename": "TypeError",
     "evalue": "unsupported operand type(s) for +: 'dict' and 'dict'",
     "output_type": "error",
     "traceback": [
      "\u001b[31m---------------------------------------------------------------------------\u001b[39m",
      "\u001b[31mTypeError\u001b[39m                                 Traceback (most recent call last)",
      "\u001b[36mCell\u001b[39m\u001b[36m \u001b[39m\u001b[32mIn[59]\u001b[39m\u001b[32m, line 1\u001b[39m\n\u001b[32m----> \u001b[39m\u001b[32m1\u001b[39m cities = \u001b[43mpopulation\u001b[49m\u001b[43m \u001b[49m\u001b[43m+\u001b[49m\u001b[43m \u001b[49m\u001b[43mpopulation_2\u001b[49m\n",
      "\u001b[31mTypeError\u001b[39m: unsupported operand type(s) for +: 'dict' and 'dict'"
     ]
    }
   ],
   "source": [
    "cities = population + population_2"
   ]
  },
  {
   "cell_type": "markdown",
   "metadata": {},
   "source": [
    "##### 7. Create a pandas DataFrame out of the following data. Store it in the variable df_.\n",
    "##### serial_no: [1, 2, 3, 4, 5, 6, 7, 8, 9, 10] #row indexes\n",
    "##### subjects : ['ENG', 'NEP', 'MAT', 'SCI', 'COM'] #column headers\n",
    "##### students : ['RAM','SHYAM','GITA','HARI','SITA','SUSHILA','RAMESH','SUBODH','ANIL','RUPA']\n",
    "##### marks :marks =[[57, 34, 93, 84, 54], [48, 49, 52, 89, 64], [66, 64, 75, 38, 84], [55, 47, 90, 82, 37], [45, 93, 70, 53, 76], [45, 63, 33, 53, 72], [68, 34, 42, 43, 84], [62, 69, 67, 50, 94], [59, 33, 51, 68, 33], [57, 91, 60, 37, 44]]\n"
   ]
  },
  {
   "cell_type": "code",
   "execution_count": 60,
   "metadata": {},
   "outputs": [
    {
     "name": "stdout",
     "output_type": "stream",
     "text": [
      "    ENG  NEP  MAT  SCI  COM  STUDENT\n",
      "1    57   34   93   84   54      RAM\n",
      "2    48   49   52   89   64    SHYAM\n",
      "3    66   64   75   38   84     GITA\n",
      "4    55   47   90   82   37     HARI\n",
      "5    45   93   70   53   76     SITA\n",
      "6    45   63   33   53   72  SUSHILA\n",
      "7    68   34   42   43   84   RAMESH\n",
      "8    62   69   67   50   94   SUBODH\n",
      "9    59   33   51   68   33     ANIL\n",
      "10   57   91   60   37   44     RUPA\n"
     ]
    }
   ],
   "source": [
    "serial_no = [1, 2, 3, 4, 5, 6, 7, 8, 9, 10]\n",
    "subjects = ['ENG', 'NEP', 'MAT', 'SCI', 'COM']\n",
    "students = ['RAM', 'SHYAM', 'GITA', 'HARI', 'SITA', 'SUSHILA', 'RAMESH', 'SUBODH', 'ANIL', 'RUPA']\n",
    "marks = [\n",
    "    [57, 34, 93, 84, 54],\n",
    "    [48, 49, 52, 89, 64],\n",
    "    [66, 64, 75, 38, 84],\n",
    "    [55, 47, 90, 82, 37],\n",
    "    [45, 93, 70, 53, 76],\n",
    "    [45, 63, 33, 53, 72],\n",
    "    [68, 34, 42, 43, 84],\n",
    "    [62, 69, 67, 50, 94],\n",
    "    [59, 33, 51, 68, 33],\n",
    "    [57, 91, 60, 37, 44]\n",
    "]\n",
    "\n",
    "df_ = pd.DataFrame(marks, index=serial_no, columns=subjects)\n",
    "\n",
    "df_[\"STUDENT\"] = students\n",
    "\n",
    "print(df_)\n"
   ]
  },
  {
   "cell_type": "markdown",
   "metadata": {},
   "source": [
    "##### 8. Fetch the records of all the students who have passed in Nepali. "
   ]
  },
  {
   "cell_type": "code",
   "execution_count": 61,
   "metadata": {},
   "outputs": [
    {
     "name": "stdout",
     "output_type": "stream",
     "text": [
      "    ENG  NEP  MAT  SCI  COM  STUDENT\n",
      "2    48   49   52   89   64    SHYAM\n",
      "3    66   64   75   38   84     GITA\n",
      "4    55   47   90   82   37     HARI\n",
      "5    45   93   70   53   76     SITA\n",
      "6    45   63   33   53   72  SUSHILA\n",
      "8    62   69   67   50   94   SUBODH\n",
      "10   57   91   60   37   44     RUPA\n"
     ]
    }
   ],
   "source": [
    "passed_students = df_[df_[\"NEP\"] >= 40]\n",
    "print(passed_students)"
   ]
  },
  {
   "cell_type": "markdown",
   "metadata": {},
   "source": [
    "##### 9. Fetch the names of all the students who have scored a first division mark in science. Note that a score of more than or equaly to 70 is First Division. "
   ]
  },
  {
   "cell_type": "code",
   "execution_count": 62,
   "metadata": {},
   "outputs": [
    {
     "name": "stdout",
     "output_type": "stream",
     "text": [
      "['RAM', 'SHYAM', 'HARI']\n"
     ]
    }
   ],
   "source": [
    "first_div_students = df_[df_[\"SCI\"] >= 70][\"STUDENT\"]\n",
    "print(first_div_students.tolist())\n"
   ]
  },
  {
   "cell_type": "markdown",
   "metadata": {},
   "source": [
    "##### Extra Question to access a element from a 2D table"
   ]
  },
  {
   "cell_type": "code",
   "execution_count": 18,
   "metadata": {},
   "outputs": [
    {
     "name": "stdout",
     "output_type": "stream",
     "text": [
      "js\n"
     ]
    }
   ],
   "source": [
    "u = {\n",
    "    \"Name\":[\"js\",\"ja\",\"jh\",\"jr\"],\n",
    "    \"Marks\":[1,2,3,4],\n",
    "    \"Status\":[\"pass\",\"fail\",\"pass\",\"fail\"],\n",
    "}\n",
    "students = pd.DataFrame(u, index=[\"st1\",\"st2\",\"st3\",\"st4\"])\n",
    "print(students.loc[\"st1\",\"Name\"])"
   ]
  }
 ],
 "metadata": {
  "kernelspec": {
   "display_name": "Python 3",
   "language": "python",
   "name": "python3"
  },
  "language_info": {
   "codemirror_mode": {
    "name": "ipython",
    "version": 3
   },
   "file_extension": ".py",
   "mimetype": "text/x-python",
   "name": "python",
   "nbconvert_exporter": "python",
   "pygments_lexer": "ipython3",
   "version": "3.11.5"
  }
 },
 "nbformat": 4,
 "nbformat_minor": 2
}
