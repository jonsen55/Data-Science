{
 "cells": [
  {
   "cell_type": "code",
   "execution_count": 3,
   "metadata": {},
   "outputs": [],
   "source": [
    "import pandas as pd"
   ]
  },
  {
   "cell_type": "markdown",
   "metadata": {},
   "source": [
    "##### 1. Create 5 different python objects as following:\n",
    "##### Python list with string values. (Store it in variable data_labels_1)\n",
    "##### Python list with integer values. (Store it in variable data_values_1)\n",
    "##### A numpy array. (Store it in variable series_numpy_array_1)\n",
    "##### A python dictionary (Store it in variable dict2)\n"
   ]
  },
  {
   "cell_type": "code",
   "execution_count": null,
   "metadata": {},
   "outputs": [
    {
     "data": {
      "text/plain": [
       "{'name': ['Alice', 'Bob', 'Charlie', 'David', 'Eve'],\n",
       " 'age': [25, 30, 35, 40, 45],\n",
       " 'city': ['New York', 'Los Angeles', 'Chicago', 'Houston', 'Phoenix']}"
      ]
     },
     "execution_count": 4,
     "metadata": {},
     "output_type": "execute_result"
    }
   ],
   "source": [
    "{\n",
    "    \"name\": [\"jonsen\", \"gaire\", \"horw\", \"hoina\", \"holaa\"],\n",
    "    \"age\": [25, 30, 35, 40, 45],\n",
    "    \"city\": [\"New York\", \"Los Angeles\", \"Chicago\", \"Houston\", \"Phoenix\"]\n",
    "}\n"
   ]
  },
  {
   "cell_type": "code",
   "execution_count": null,
   "metadata": {},
   "outputs": [
    {
     "name": "stdout",
     "output_type": "stream",
     "text": [
      "{'Name': ['js', 'ja', 'jh', 'jr'], 'Marks': [1, 2, 3, 4], 'Status': ['pass', 'fail', 'pass', 'fail']}\n",
      "js\n"
     ]
    }
   ],
   "source": [
    "u = {\n",
    "    \"Name\":[\"js\",\"ja\",\"jh\",\"jr\"],\n",
    "    \"Marks\":[1,2,3,4],\n",
    "    \"Status\":[\"pass\",\"fail\",\"pass\",\"fail\"],\n",
    "}\n",
    "students = pd.DataFrame(u, index=[\"st1\",\"st2\",\"st3\",\"st4\"])\n",
    "print(students.loc[\"st1\"][\"Name\"])"
   ]
  }
 ],
 "metadata": {
  "kernelspec": {
   "display_name": "Python 3",
   "language": "python",
   "name": "python3"
  },
  "language_info": {
   "codemirror_mode": {
    "name": "ipython",
    "version": 3
   },
   "file_extension": ".py",
   "mimetype": "text/x-python",
   "name": "python",
   "nbconvert_exporter": "python",
   "pygments_lexer": "ipython3",
   "version": "3.11.5"
  }
 },
 "nbformat": 4,
 "nbformat_minor": 2
}
