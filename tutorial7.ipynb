{
 "cells": [
  {
   "cell_type": "code",
   "execution_count": 2,
   "id": "cf0c20fe",
   "metadata": {},
   "outputs": [],
   "source": [
    "import statistics   #importing packages\n",
    "import pandas as pd"
   ]
  },
  {
   "cell_type": "code",
   "execution_count": 4,
   "id": "4a5fee7b",
   "metadata": {},
   "outputs": [],
   "source": [
    "df=pd.read_csv(\"C:/Users/Dell/Downloads/Housing.csv\")  #import dataset"
   ]
  },
  {
   "cell_type": "code",
   "execution_count": 5,
   "id": "909588cd",
   "metadata": {},
   "outputs": [
    {
     "data": {
      "text/html": [
       "<div>\n",
       "<style scoped>\n",
       "    .dataframe tbody tr th:only-of-type {\n",
       "        vertical-align: middle;\n",
       "    }\n",
       "\n",
       "    .dataframe tbody tr th {\n",
       "        vertical-align: top;\n",
       "    }\n",
       "\n",
       "    .dataframe thead th {\n",
       "        text-align: right;\n",
       "    }\n",
       "</style>\n",
       "<table border=\"1\" class=\"dataframe\">\n",
       "  <thead>\n",
       "    <tr style=\"text-align: right;\">\n",
       "      <th></th>\n",
       "      <th>price</th>\n",
       "      <th>area</th>\n",
       "      <th>bedrooms</th>\n",
       "      <th>bathrooms</th>\n",
       "      <th>stories</th>\n",
       "      <th>mainroad</th>\n",
       "      <th>guestroom</th>\n",
       "      <th>basement</th>\n",
       "      <th>hotwaterheating</th>\n",
       "      <th>airconditioning</th>\n",
       "      <th>parking</th>\n",
       "      <th>prefarea</th>\n",
       "      <th>furnishingstatus</th>\n",
       "    </tr>\n",
       "  </thead>\n",
       "  <tbody>\n",
       "    <tr>\n",
       "      <th>0</th>\n",
       "      <td>13300000</td>\n",
       "      <td>7420.0</td>\n",
       "      <td>4</td>\n",
       "      <td>2</td>\n",
       "      <td>3</td>\n",
       "      <td>yes</td>\n",
       "      <td>no</td>\n",
       "      <td>no</td>\n",
       "      <td>no</td>\n",
       "      <td>yes</td>\n",
       "      <td>2</td>\n",
       "      <td>yes</td>\n",
       "      <td>furnished</td>\n",
       "    </tr>\n",
       "    <tr>\n",
       "      <th>1</th>\n",
       "      <td>12250000</td>\n",
       "      <td>8960.0</td>\n",
       "      <td>4</td>\n",
       "      <td>4</td>\n",
       "      <td>4</td>\n",
       "      <td>yes</td>\n",
       "      <td>no</td>\n",
       "      <td>no</td>\n",
       "      <td>no</td>\n",
       "      <td>yes</td>\n",
       "      <td>3</td>\n",
       "      <td>no</td>\n",
       "      <td>furnished</td>\n",
       "    </tr>\n",
       "    <tr>\n",
       "      <th>2</th>\n",
       "      <td>12250000</td>\n",
       "      <td>9960.0</td>\n",
       "      <td>3</td>\n",
       "      <td>2</td>\n",
       "      <td>2</td>\n",
       "      <td>yes</td>\n",
       "      <td>no</td>\n",
       "      <td>yes</td>\n",
       "      <td>no</td>\n",
       "      <td>no</td>\n",
       "      <td>2</td>\n",
       "      <td>yes</td>\n",
       "      <td>semi-furnished</td>\n",
       "    </tr>\n",
       "    <tr>\n",
       "      <th>3</th>\n",
       "      <td>12215000</td>\n",
       "      <td>7500.0</td>\n",
       "      <td>4</td>\n",
       "      <td>2</td>\n",
       "      <td>2</td>\n",
       "      <td>yes</td>\n",
       "      <td>no</td>\n",
       "      <td>yes</td>\n",
       "      <td>no</td>\n",
       "      <td>yes</td>\n",
       "      <td>3</td>\n",
       "      <td>yes</td>\n",
       "      <td>furnished</td>\n",
       "    </tr>\n",
       "    <tr>\n",
       "      <th>4</th>\n",
       "      <td>11410000</td>\n",
       "      <td>7420.0</td>\n",
       "      <td>4</td>\n",
       "      <td>1</td>\n",
       "      <td>2</td>\n",
       "      <td>yes</td>\n",
       "      <td>yes</td>\n",
       "      <td>yes</td>\n",
       "      <td>no</td>\n",
       "      <td>yes</td>\n",
       "      <td>2</td>\n",
       "      <td>no</td>\n",
       "      <td>furnished</td>\n",
       "    </tr>\n",
       "  </tbody>\n",
       "</table>\n",
       "</div>"
      ],
      "text/plain": [
       "      price    area  bedrooms  bathrooms  stories mainroad guestroom basement  \\\n",
       "0  13300000  7420.0         4          2        3      yes        no       no   \n",
       "1  12250000  8960.0         4          4        4      yes        no       no   \n",
       "2  12250000  9960.0         3          2        2      yes        no      yes   \n",
       "3  12215000  7500.0         4          2        2      yes        no      yes   \n",
       "4  11410000  7420.0         4          1        2      yes       yes      yes   \n",
       "\n",
       "  hotwaterheating airconditioning  parking prefarea furnishingstatus  \n",
       "0              no             yes        2      yes        furnished  \n",
       "1              no             yes        3       no        furnished  \n",
       "2              no              no        2      yes   semi-furnished  \n",
       "3              no             yes        3      yes        furnished  \n",
       "4              no             yes        2       no        furnished  "
      ]
     },
     "execution_count": 5,
     "metadata": {},
     "output_type": "execute_result"
    }
   ],
   "source": [
    "df.head()    #displaying top 10 data"
   ]
  },
  {
   "cell_type": "code",
   "execution_count": 6,
   "id": "505d659c",
   "metadata": {},
   "outputs": [
    {
     "data": {
      "text/plain": [
       "nan"
      ]
     },
     "execution_count": 6,
     "metadata": {},
     "output_type": "execute_result"
    }
   ],
   "source": [
    "statistics.mean(df.area)     #calculating mean\n",
    "# df['area'].mean()"
   ]
  },
  {
   "cell_type": "code",
   "execution_count": 7,
   "id": "09887717",
   "metadata": {},
   "outputs": [],
   "source": [
    "df.dropna(inplace= True)   #dropping null/missing value"
   ]
  },
  {
   "cell_type": "code",
   "execution_count": 8,
   "id": "03bcdfc0",
   "metadata": {},
   "outputs": [
    {
     "data": {
      "text/plain": [
       "5134.1584905660375"
      ]
     },
     "execution_count": 8,
     "metadata": {},
     "output_type": "execute_result"
    }
   ],
   "source": [
    "statistics.mean(df.area)   #calculating mean"
   ]
  },
  {
   "cell_type": "code",
   "execution_count": 9,
   "id": "cec14302",
   "metadata": {},
   "outputs": [
    {
     "data": {
      "text/plain": [
       "2152.6218324780675"
      ]
     },
     "execution_count": 9,
     "metadata": {},
     "output_type": "execute_result"
    }
   ],
   "source": [
    "statistics.stdev(df.area)   #calculating standard deviation"
   ]
  },
  {
   "cell_type": "code",
   "execution_count": 10,
   "id": "4b4ad41d",
   "metadata": {},
   "outputs": [
    {
     "data": {
      "text/plain": [
       "'semi-furnished'"
      ]
     },
     "execution_count": 10,
     "metadata": {},
     "output_type": "execute_result"
    }
   ],
   "source": [
    "statistics.mode(df.furnishingstatus)    #calculating mode"
   ]
  },
  {
   "cell_type": "code",
   "execution_count": 11,
   "id": "e2cdfa8e",
   "metadata": {},
   "outputs": [
    {
     "data": {
      "text/html": [
       "<div>\n",
       "<style scoped>\n",
       "    .dataframe tbody tr th:only-of-type {\n",
       "        vertical-align: middle;\n",
       "    }\n",
       "\n",
       "    .dataframe tbody tr th {\n",
       "        vertical-align: top;\n",
       "    }\n",
       "\n",
       "    .dataframe thead th {\n",
       "        text-align: right;\n",
       "    }\n",
       "</style>\n",
       "<table border=\"1\" class=\"dataframe\">\n",
       "  <thead>\n",
       "    <tr style=\"text-align: right;\">\n",
       "      <th></th>\n",
       "      <th>price</th>\n",
       "      <th>area</th>\n",
       "      <th>bedrooms</th>\n",
       "      <th>bathrooms</th>\n",
       "      <th>stories</th>\n",
       "      <th>parking</th>\n",
       "    </tr>\n",
       "  </thead>\n",
       "  <tbody>\n",
       "    <tr>\n",
       "      <th>count</th>\n",
       "      <td>5.300000e+02</td>\n",
       "      <td>530.000000</td>\n",
       "      <td>530.000000</td>\n",
       "      <td>530.000000</td>\n",
       "      <td>530.000000</td>\n",
       "      <td>530.000000</td>\n",
       "    </tr>\n",
       "    <tr>\n",
       "      <th>mean</th>\n",
       "      <td>4.731140e+06</td>\n",
       "      <td>5134.158491</td>\n",
       "      <td>2.962264</td>\n",
       "      <td>1.281132</td>\n",
       "      <td>1.801887</td>\n",
       "      <td>0.688679</td>\n",
       "    </tr>\n",
       "    <tr>\n",
       "      <th>std</th>\n",
       "      <td>1.841074e+06</td>\n",
       "      <td>2152.621832</td>\n",
       "      <td>0.739444</td>\n",
       "      <td>0.501626</td>\n",
       "      <td>0.867604</td>\n",
       "      <td>0.862616</td>\n",
       "    </tr>\n",
       "    <tr>\n",
       "      <th>min</th>\n",
       "      <td>1.750000e+06</td>\n",
       "      <td>1650.000000</td>\n",
       "      <td>1.000000</td>\n",
       "      <td>1.000000</td>\n",
       "      <td>1.000000</td>\n",
       "      <td>0.000000</td>\n",
       "    </tr>\n",
       "    <tr>\n",
       "      <th>25%</th>\n",
       "      <td>3.430000e+06</td>\n",
       "      <td>3588.000000</td>\n",
       "      <td>2.000000</td>\n",
       "      <td>1.000000</td>\n",
       "      <td>1.000000</td>\n",
       "      <td>0.000000</td>\n",
       "    </tr>\n",
       "    <tr>\n",
       "      <th>50%</th>\n",
       "      <td>4.329500e+06</td>\n",
       "      <td>4540.000000</td>\n",
       "      <td>3.000000</td>\n",
       "      <td>1.000000</td>\n",
       "      <td>2.000000</td>\n",
       "      <td>0.000000</td>\n",
       "    </tr>\n",
       "    <tr>\n",
       "      <th>75%</th>\n",
       "      <td>5.718125e+06</td>\n",
       "      <td>6360.000000</td>\n",
       "      <td>3.000000</td>\n",
       "      <td>2.000000</td>\n",
       "      <td>2.000000</td>\n",
       "      <td>1.000000</td>\n",
       "    </tr>\n",
       "    <tr>\n",
       "      <th>max</th>\n",
       "      <td>1.330000e+07</td>\n",
       "      <td>16200.000000</td>\n",
       "      <td>6.000000</td>\n",
       "      <td>4.000000</td>\n",
       "      <td>4.000000</td>\n",
       "      <td>3.000000</td>\n",
       "    </tr>\n",
       "  </tbody>\n",
       "</table>\n",
       "</div>"
      ],
      "text/plain": [
       "              price          area    bedrooms   bathrooms     stories  \\\n",
       "count  5.300000e+02    530.000000  530.000000  530.000000  530.000000   \n",
       "mean   4.731140e+06   5134.158491    2.962264    1.281132    1.801887   \n",
       "std    1.841074e+06   2152.621832    0.739444    0.501626    0.867604   \n",
       "min    1.750000e+06   1650.000000    1.000000    1.000000    1.000000   \n",
       "25%    3.430000e+06   3588.000000    2.000000    1.000000    1.000000   \n",
       "50%    4.329500e+06   4540.000000    3.000000    1.000000    2.000000   \n",
       "75%    5.718125e+06   6360.000000    3.000000    2.000000    2.000000   \n",
       "max    1.330000e+07  16200.000000    6.000000    4.000000    4.000000   \n",
       "\n",
       "          parking  \n",
       "count  530.000000  \n",
       "mean     0.688679  \n",
       "std      0.862616  \n",
       "min      0.000000  \n",
       "25%      0.000000  \n",
       "50%      0.000000  \n",
       "75%      1.000000  \n",
       "max      3.000000  "
      ]
     },
     "execution_count": 11,
     "metadata": {},
     "output_type": "execute_result"
    }
   ],
   "source": [
    "df.describe()  # calculating some statistical data like percentile, mean and std of the numerical values of the Series or DataFrame."
   ]
  },
  {
   "cell_type": "code",
   "execution_count": 12,
   "id": "78e32585",
   "metadata": {},
   "outputs": [
    {
     "data": {
      "text/html": [
       "<div>\n",
       "<style scoped>\n",
       "    .dataframe tbody tr th:only-of-type {\n",
       "        vertical-align: middle;\n",
       "    }\n",
       "\n",
       "    .dataframe tbody tr th {\n",
       "        vertical-align: top;\n",
       "    }\n",
       "\n",
       "    .dataframe thead th {\n",
       "        text-align: right;\n",
       "    }\n",
       "</style>\n",
       "<table border=\"1\" class=\"dataframe\">\n",
       "  <thead>\n",
       "    <tr style=\"text-align: right;\">\n",
       "      <th></th>\n",
       "      <th>price</th>\n",
       "      <th>bedrooms</th>\n",
       "      <th>bathrooms</th>\n",
       "      <th>stories</th>\n",
       "      <th>parking</th>\n",
       "    </tr>\n",
       "  </thead>\n",
       "  <tbody>\n",
       "    <tr>\n",
       "      <th>count</th>\n",
       "      <td>5.300000e+02</td>\n",
       "      <td>530.000000</td>\n",
       "      <td>530.000000</td>\n",
       "      <td>530.000000</td>\n",
       "      <td>530.000000</td>\n",
       "    </tr>\n",
       "    <tr>\n",
       "      <th>mean</th>\n",
       "      <td>4.731140e+06</td>\n",
       "      <td>2.962264</td>\n",
       "      <td>1.281132</td>\n",
       "      <td>1.801887</td>\n",
       "      <td>0.688679</td>\n",
       "    </tr>\n",
       "    <tr>\n",
       "      <th>std</th>\n",
       "      <td>1.841074e+06</td>\n",
       "      <td>0.739444</td>\n",
       "      <td>0.501626</td>\n",
       "      <td>0.867604</td>\n",
       "      <td>0.862616</td>\n",
       "    </tr>\n",
       "    <tr>\n",
       "      <th>min</th>\n",
       "      <td>1.750000e+06</td>\n",
       "      <td>1.000000</td>\n",
       "      <td>1.000000</td>\n",
       "      <td>1.000000</td>\n",
       "      <td>0.000000</td>\n",
       "    </tr>\n",
       "    <tr>\n",
       "      <th>25%</th>\n",
       "      <td>3.430000e+06</td>\n",
       "      <td>2.000000</td>\n",
       "      <td>1.000000</td>\n",
       "      <td>1.000000</td>\n",
       "      <td>0.000000</td>\n",
       "    </tr>\n",
       "    <tr>\n",
       "      <th>50%</th>\n",
       "      <td>4.329500e+06</td>\n",
       "      <td>3.000000</td>\n",
       "      <td>1.000000</td>\n",
       "      <td>2.000000</td>\n",
       "      <td>0.000000</td>\n",
       "    </tr>\n",
       "    <tr>\n",
       "      <th>75%</th>\n",
       "      <td>5.718125e+06</td>\n",
       "      <td>3.000000</td>\n",
       "      <td>2.000000</td>\n",
       "      <td>2.000000</td>\n",
       "      <td>1.000000</td>\n",
       "    </tr>\n",
       "    <tr>\n",
       "      <th>max</th>\n",
       "      <td>1.330000e+07</td>\n",
       "      <td>6.000000</td>\n",
       "      <td>4.000000</td>\n",
       "      <td>4.000000</td>\n",
       "      <td>3.000000</td>\n",
       "    </tr>\n",
       "  </tbody>\n",
       "</table>\n",
       "</div>"
      ],
      "text/plain": [
       "              price    bedrooms   bathrooms     stories     parking\n",
       "count  5.300000e+02  530.000000  530.000000  530.000000  530.000000\n",
       "mean   4.731140e+06    2.962264    1.281132    1.801887    0.688679\n",
       "std    1.841074e+06    0.739444    0.501626    0.867604    0.862616\n",
       "min    1.750000e+06    1.000000    1.000000    1.000000    0.000000\n",
       "25%    3.430000e+06    2.000000    1.000000    1.000000    0.000000\n",
       "50%    4.329500e+06    3.000000    1.000000    2.000000    0.000000\n",
       "75%    5.718125e+06    3.000000    2.000000    2.000000    1.000000\n",
       "max    1.330000e+07    6.000000    4.000000    4.000000    3.000000"
      ]
     },
     "execution_count": 12,
     "metadata": {},
     "output_type": "execute_result"
    }
   ],
   "source": [
    "df.describe(include='int')      # calculating some statistical data only for int type feature/attribute/column"
   ]
  },
  {
   "cell_type": "code",
   "execution_count": 13,
   "id": "6705ab25",
   "metadata": {},
   "outputs": [
    {
     "data": {
      "text/plain": [
       "np.float64(5718125.0)"
      ]
     },
     "execution_count": 13,
     "metadata": {},
     "output_type": "execute_result"
    }
   ],
   "source": [
    "#percentile and quartile\n",
    "import numpy as np\n",
    "np.percentile(df['price'],10)\n",
    "np.percentile(df['price'],20)\n",
    "np.percentile(df['price'],25) #q1\n",
    "np.percentile(df['price'],50)  #q2 median\n",
    "np.percentile(df['price'],75)  #q3"
   ]
  },
  {
   "cell_type": "code",
   "execution_count": 14,
   "id": "69183496",
   "metadata": {},
   "outputs": [
    {
     "data": {
      "text/plain": [
       "np.float64(2.232360487969864)"
      ]
     },
     "execution_count": 14,
     "metadata": {},
     "output_type": "execute_result"
    }
   ],
   "source": [
    "#kurtosis and skew\n",
    "df['price'].kurtosis()"
   ]
  },
  {
   "cell_type": "code",
   "execution_count": 15,
   "id": "b010a2d6",
   "metadata": {},
   "outputs": [
    {
     "data": {
      "text/plain": [
       "np.float64(1.2555562245135674)"
      ]
     },
     "execution_count": 15,
     "metadata": {},
     "output_type": "execute_result"
    }
   ],
   "source": [
    "df['price'].skew()"
   ]
  },
  {
   "cell_type": "code",
   "execution_count": 16,
   "id": "34220cce",
   "metadata": {},
   "outputs": [
    {
     "name": "stdout",
     "output_type": "stream",
     "text": [
      "P-value is:  0.07179988272763561\n",
      "We can accept the null hypothesis\n"
     ]
    }
   ],
   "source": [
    "from scipy.stats import ttest_1samp\n",
    "import numpy as np\n",
    "\n",
    "ages = [45, 89, 23, 46, 12, 69, 45, 24, 34, 67]\n",
    "\n",
    "\n",
    "# Calculating the mean of the sample\n",
    "mean = np.mean(ages)\n",
    "\n",
    "\n",
    "# Performing the T-Test\n",
    "t_test, p_val = ttest_1samp(ages, 30)\n",
    "print(\"P-value is: \", p_val)\n",
    "\n",
    "if p_val < 0.05:\n",
    "    print(\" We can reject the null hypothesis\")\n",
    "else:\n",
    "    print(\"We can accept the null hypothesis\")"
   ]
  },
  {
   "cell_type": "code",
   "execution_count": 17,
   "id": "0bb7aa90",
   "metadata": {},
   "outputs": [
    {
     "name": "stdout",
     "output_type": "stream",
     "text": [
      "The P-value is:  0.49164101990780473\n",
      "We can accept the null hypothesis\n"
     ]
    }
   ],
   "source": [
    "from scipy.stats import ttest_ind\n",
    "import numpy as np\n",
    "\n",
    "\n",
    "c1_marks = np.array([23, 29, 24, 25, 21, 26, 21,\n",
    "                        21, 25, 30, 29, 21, 23, 19,\n",
    "                        14, 18, 14, 12, 29, 15])\n",
    "c2_marks = np.array([23, 22, 24, 25, 21, 26, 21,\n",
    "                        21, 25, 30, 24, 21, 23, 19,\n",
    "                        14, 18, 14, 12, 19, 15])\n",
    "\n",
    "\n",
    "mean1 = np.mean(c1_marks)\n",
    "mean2 = np.mean(c2_marks)\n",
    "\n",
    "\n",
    "std1 = np.std(c1_marks)\n",
    "std2 = np.std(c2_marks)\n",
    "\n",
    "t_test,p_val = ttest_ind(c1_marks, c2_marks)\n",
    "print(\"The P-value is: \", p_val)\n",
    "\n",
    "\n",
    "if p_val < 0.05:\n",
    "    print(\"We can reject the null hypothesis\")\n",
    "else:\n",
    "    print(\"We can accept the null hypothesis\")"
   ]
  },
  {
   "cell_type": "code",
   "execution_count": 19,
   "id": "45d34e81",
   "metadata": {},
   "outputs": [
    {
     "name": "stdout",
     "output_type": "stream",
     "text": [
      "0.1785395947334597\n",
      "We can accept the null hypothesis\n"
     ]
    }
   ],
   "source": [
    "import pandas as pd\n",
    "from scipy import stats\n",
    "from statsmodels.stats import weightstats as stests\n",
    "\n",
    "data = [89, 93, 95, 93, 97, 98, 96, 99, 93, 97,\n",
    "        110, 104, 119, 105, 104, 110, 110, 112, 115, 114]\n",
    "\n",
    "z_test ,p_val = stests.ztest(data, x2 = None, value = 100)\n",
    "print(p_val)\n",
    "\n",
    "if p_val < 0.05:\n",
    "    print(\"We can reject the null hypothesis\")\n",
    "else:\n",
    "    print(\"We can accept the null hypothesis\")"
   ]
  },
  {
   "cell_type": "code",
   "execution_count": 20,
   "id": "27731b39",
   "metadata": {},
   "outputs": [
    {
     "name": "stdout",
     "output_type": "stream",
     "text": [
      "1.0\n",
      "We can accept the null hypothesis\n"
     ]
    }
   ],
   "source": [
    "import pandas as pd\n",
    "from scipy import stats\n",
    "from statsmodels.stats import weightstats as stests\n",
    "\n",
    "data1 = [92, 92, 90, 93, 93, 97, 94, 98, 109, 108,\n",
    "         110, 117, 110, 115, 114, 114, 130, 130, 149, 131]\n",
    "\n",
    "data2 = [92, 92, 90, 93, 93, 97, 94, 98, 109, 108,\n",
    "         110, 117, 110, 115, 114, 114, 130, 130, 149, 131]\n",
    "\n",
    "z_test ,p_val = stests.ztest(data1, x2 = data2, alternative = 'two-sided')\n",
    "print(p_val)\n",
    "\n",
    "if p_val < 0.05:\n",
    "    print(\"We can reject the null hypothesis\")\n",
    "else:\n",
    "    print(\"We can accept the null hypothesis\")\n"
   ]
  },
  {
   "cell_type": "code",
   "execution_count": 21,
   "id": "78aff436",
   "metadata": {},
   "outputs": [
    {
     "name": "stdout",
     "output_type": "stream",
     "text": [
      "The p-value of our test is 0.9994807866309966\n",
      "We can accept the null hypothesis\n"
     ]
    }
   ],
   "source": [
    "from scipy.stats import chi2_contingency\n",
    "\n",
    "# defining our data\n",
    "data = [[231, 256, 321], [231, 255, 320]]\n",
    "\n",
    "# Performing chi-square test\n",
    "test, p_val, dof, expected_val = chi2_contingency(data)\n",
    "\n",
    "# interpreting the p-value\n",
    "alpha = 0.05\n",
    "print(\"The p-value of our test is \" + str(p_val))\n",
    "\n",
    "# Checking the hypothesis\n",
    "if p_val <= alpha:\n",
    "    print('We can reject the null hypothesis')\n",
    "else:\n",
    "    print('We can accept the null hypothesis')"
   ]
  },
  {
   "cell_type": "code",
   "execution_count": 24,
   "id": "fbf6dca7",
   "metadata": {},
   "outputs": [],
   "source": [
    "from seaborn import histplot"
   ]
  },
  {
   "cell_type": "code",
   "execution_count": 61,
   "id": "e4753c5c",
   "metadata": {},
   "outputs": [],
   "source": [
    "data1 = pd.Series([1,1,1,1,1,1,1,1,2,3,4,100,101,100,102])\n",
    "data2 = pd.Series([2,30,31,32,33,34])"
   ]
  },
  {
   "cell_type": "code",
   "execution_count": 55,
   "id": "19ddb262",
   "metadata": {},
   "outputs": [
    {
     "data": {
      "text/plain": [
       "np.float64(1.979686891095822)"
      ]
     },
     "execution_count": 55,
     "metadata": {},
     "output_type": "execute_result"
    }
   ],
   "source": [
    "data1.skew()"
   ]
  },
  {
   "cell_type": "code",
   "execution_count": 62,
   "id": "34443886",
   "metadata": {},
   "outputs": [
    {
     "data": {
      "text/plain": [
       "np.float64(-2.377290891899826)"
      ]
     },
     "execution_count": 62,
     "metadata": {},
     "output_type": "execute_result"
    }
   ],
   "source": [
    "data2.skew()"
   ]
  },
  {
   "cell_type": "code",
   "execution_count": 56,
   "id": "d31a3200",
   "metadata": {},
   "outputs": [
    {
     "data": {
      "text/plain": [
       "<Axes: ylabel='Count'>"
      ]
     },
     "execution_count": 56,
     "metadata": {},
     "output_type": "execute_result"
    },
    {
     "data": {
      "image/png": "[encoded data removed]",
      "text/plain": [
       "<Figure size 640x480 with 1 Axes>"
      ]
     },
     "metadata": {},
     "output_type": "display_data"
    }
   ],
   "source": [
    "histplot(data1, kde=True)"
   ]
  },
  {
   "cell_type": "code",
   "execution_count": 63,
   "id": "23d7bc7a",
   "metadata": {},
   "outputs": [
    {
     "data": {
      "text/plain": [
       "<Axes: ylabel='Count'>"
      ]
     },
     "execution_count": 63,
     "metadata": {},
     "output_type": "execute_result"
    },
    {
     "data": {
      "image/png": "[encoded data removed]",
      "text/plain": [
       "<Figure size 640x480 with 1 Axes>"
      ]
     },
     "metadata": {},
     "output_type": "display_data"
    }
   ],
   "source": [
    "histplot(data2, kde=True)"
   ]
  }
 ],
 "metadata": {
  "kernelspec": {
   "display_name": "Python 3",
   "language": "python",
   "name": "python3"
  },
  "language_info": {
   "codemirror_mode": {
    "name": "ipython",
    "version": 3
   },
   "file_extension": ".py",
   "mimetype": "text/x-python",
   "name": "python",
   "nbconvert_exporter": "python",
   "pygments_lexer": "ipython3",
   "version": "3.11.5"
  }
 },
 "nbformat": 4,
 "nbformat_minor": 5
}
